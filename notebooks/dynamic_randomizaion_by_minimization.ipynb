{
 "cells": [
  {
   "cell_type": "code",
   "execution_count": 1,
   "id": "f412dcd1",
   "metadata": {},
   "outputs": [],
   "source": [
    "# 最小化法による無作為割付"
   ]
  },
  {
   "cell_type": "code",
   "execution_count": 2,
   "id": "35bce5c6",
   "metadata": {},
   "outputs": [],
   "source": [
    "include(\"../src/Sampling/minimization.jl\")\n",
    "using Printf"
   ]
  },
  {
   "cell_type": "code",
   "execution_count": 3,
   "id": "4da8617c",
   "metadata": {},
   "outputs": [
    {
     "name": "stdout",
     "output_type": "stream",
     "text": [
      "Factor | A | B\n",
      "(5, 3) | 4 | 2\n",
      "(6, 3) | 0 | 2\n",
      "(5, 4) | 2 | 3\n",
      "(6, 4) | 2 | 1\n",
      "Total  | 8 | 8\n",
      "Assigned new patient [5, 3] to B .\n"
     ]
    }
   ],
   "source": [
    "# Reference: https://lexjansen.com/nesug/nesug04/ap/ap07.pdf\n",
    "let\n",
    "    assigned_treatment = [\"B\",\"A\",\"A\",\"B\",\"A\",\"B\",\"A\",\"B\",\"A\",\"A\",\"B\",\"A\",\"A\",\"B\",\"B\",\"B\"]\n",
    "    assigned_patients = [[6,4],[5,3],[5,3],[6,3],[5,4],[5,4],[6,4],[5,3],[6,4],[5,4],[6,3],[5,3],[5,3],[5,3],[5,4],[5,4]]\n",
    "    assigned_data = collect(zip(assigned_patients, assigned_treatment))\n",
    "    prob = 1.0\n",
    "    group_ratio_pairs = [(\"A\",1), (\"B\",1)]\n",
    "    \n",
    "    total_mat = zeros(Int,2,2,2)\n",
    "    for d in assigned_data\n",
    "        i = d[2] == \"A\" ? 1 : 2\n",
    "        j = d[1][1] == 5 ? 1 : 2\n",
    "        k = d[1][2] == 3 ? 1 : 2\n",
    "        total_mat[i,j,k] += 1\n",
    "    end\n",
    "    println(\"Factor | A | B\")\n",
    "    println(\"(5, 3) | $(total_mat[1,1,1]) | $(total_mat[2,1,1])\")\n",
    "    println(\"(6, 3) | $(total_mat[1,2,1]) | $(total_mat[2,2,1])\")\n",
    "    println(\"(5, 4) | $(total_mat[1,1,2]) | $(total_mat[2,1,2])\")\n",
    "    println(\"(6, 4) | $(total_mat[1,2,2]) | $(total_mat[2,2,2])\")\n",
    "    println(\"Total  | $(sum(total_mat[1,:,:])) | $(sum(total_mat[2,:,:]))\")\n",
    "    \n",
    "    new_patient = [5,3]\n",
    "    treatment = assign(assigned_data, prob, new_patient, group_ratio_pairs, Range())\n",
    "    println(\"Assigned new patient $(new_patient) to $treatment .\")\n",
    "end"
   ]
  },
  {
   "cell_type": "code",
   "execution_count": 4,
   "id": "2b00494d",
   "metadata": {},
   "outputs": [
    {
     "name": "stdout",
     "output_type": "stream",
     "text": [
      "Factor | Tr |  A13, A14, A15, A23, A24, A25, B13, B14, B15, B23, B24, B25, C13, C14, C15, C23, C24, C25, \n",
      "(1, 4) |  B |    0,   0,   0,   0,   0,   0,   0,   1,   0,   0,   0,   0,   0,   0,   0,   0,   0,   0,\n",
      "(1, 3) |  C |    0,   0,   0,   0,   0,   0,   0,   1,   0,   0,   0,   0,   1,   0,   0,   0,   0,   0,\n",
      "(2, 5) |  B |    0,   0,   0,   0,   0,   0,   0,   1,   0,   0,   0,   1,   1,   0,   0,   0,   0,   0,\n",
      "(1, 4) |  A |    0,   1,   0,   0,   0,   0,   0,   1,   0,   0,   0,   1,   1,   0,   0,   0,   0,   0,\n",
      "(1, 4) |  B |    0,   1,   0,   0,   0,   0,   0,   2,   0,   0,   0,   1,   1,   0,   0,   0,   0,   0,\n",
      "(1, 4) |  C |    0,   1,   0,   0,   0,   0,   0,   2,   0,   0,   0,   1,   1,   1,   0,   0,   0,   0,\n",
      "(1, 4) |  A |    0,   2,   0,   0,   0,   0,   0,   2,   0,   0,   0,   1,   1,   1,   0,   0,   0,   0,\n",
      "(1, 5) |  B |    0,   2,   0,   0,   0,   0,   0,   2,   1,   0,   0,   1,   1,   1,   0,   0,   0,   0,\n",
      "(1, 5) |  A |    0,   2,   1,   0,   0,   0,   0,   2,   1,   0,   0,   1,   1,   1,   0,   0,   0,   0,\n",
      "(1, 4) |  B |    0,   2,   1,   0,   0,   0,   0,   3,   1,   0,   0,   1,   1,   1,   0,   0,   0,   0,\n",
      "(1, 3) |  B |    0,   2,   1,   0,   0,   0,   1,   3,   1,   0,   0,   1,   1,   1,   0,   0,   0,   0,\n",
      "(2, 5) |  C |    0,   2,   1,   0,   0,   0,   1,   3,   1,   0,   0,   1,   1,   1,   0,   0,   0,   1,\n",
      "(1, 5) |  B |    0,   2,   1,   0,   0,   0,   1,   3,   2,   0,   0,   1,   1,   1,   0,   0,   0,   1,\n",
      "(1, 4) |  C |    0,   2,   1,   0,   0,   0,   1,   3,   2,   0,   0,   1,   1,   2,   0,   0,   0,   1,\n",
      "(1, 5) |  C |    0,   2,   1,   0,   0,   0,   1,   3,   2,   0,   0,   1,   1,   2,   1,   0,   0,   1,\n",
      "(2, 4) |  B |    0,   2,   1,   0,   0,   0,   1,   3,   2,   0,   1,   1,   1,   2,   1,   0,   0,   1,\n",
      "(1, 4) |  B |    0,   2,   1,   0,   0,   0,   1,   4,   2,   0,   1,   1,   1,   2,   1,   0,   0,   1,\n",
      "(1, 3) |  A |    1,   2,   1,   0,   0,   0,   1,   4,   2,   0,   1,   1,   1,   2,   1,   0,   0,   1,\n",
      "(1, 4) |  B |    1,   2,   1,   0,   0,   0,   1,   5,   2,   0,   1,   1,   1,   2,   1,   0,   0,   1,\n",
      "(1, 3) |  B |    1,   2,   1,   0,   0,   0,   2,   5,   2,   0,   1,   1,   1,   2,   1,   0,   0,   1,\n",
      "(1, 3) |  C |    1,   2,   1,   0,   0,   0,   2,   5,   2,   0,   1,   1,   2,   2,   1,   0,   0,   1,\n",
      "(1, 4) |  A |    1,   3,   1,   0,   0,   0,   2,   5,   2,   0,   1,   1,   2,   2,   1,   0,   0,   1,\n",
      "(1, 5) |  B |    1,   3,   1,   0,   0,   0,   2,   5,   3,   0,   1,   1,   2,   2,   1,   0,   0,   1,\n",
      "(1, 3) |  B |    1,   3,   1,   0,   0,   0,   3,   5,   3,   0,   1,   1,   2,   2,   1,   0,   0,   1,\n",
      "(2, 3) |  A |    1,   3,   1,   1,   0,   0,   3,   5,   3,   0,   1,   1,   2,   2,   1,   0,   0,   1,\n",
      "(1, 4) |  C |    1,   3,   1,   1,   0,   0,   3,   5,   3,   0,   1,   1,   2,   3,   1,   0,   0,   1,\n",
      "(1, 4) |  B |    1,   3,   1,   1,   0,   0,   3,   6,   3,   0,   1,   1,   2,   3,   1,   0,   0,   1,\n",
      "(1, 4) |  A |    1,   4,   1,   1,   0,   0,   3,   6,   3,   0,   1,   1,   2,   3,   1,   0,   0,   1,\n",
      "(1, 5) |  A |    1,   4,   2,   1,   0,   0,   3,   6,   3,   0,   1,   1,   2,   3,   1,   0,   0,   1,\n",
      "(1, 3) |  B |    1,   4,   2,   1,   0,   0,   4,   6,   3,   0,   1,   1,   2,   3,   1,   0,   0,   1,\n",
      "(2, 4) |  B |    1,   4,   2,   1,   0,   0,   4,   6,   3,   0,   2,   1,   2,   3,   1,   0,   0,   1,\n",
      "(1, 3) |  B |    1,   4,   2,   1,   0,   0,   5,   6,   3,   0,   2,   1,   2,   3,   1,   0,   0,   1,\n",
      "=========\n",
      "Factor | A | B | C\n",
      "(1, 3) | 1 | 5 | 2\n",
      "(1, 4) | 4 | 6 | 3\n",
      "(1, 5) | 2 | 3 | 1\n",
      "(2, 3) | 1 | 0 | 0\n",
      "(2, 4) | 0 | 2 | 0\n",
      "(2, 5) | 0 | 1 | 1\n",
      "Total  | 8 |17 | 7\n"
     ]
    }
   ],
   "source": [
    "let\n",
    "    assigned_data = Tuple{Vector{Int},String}[]\n",
    "    group_ratio_pairs = [(\"A\",1),(\"B\",2),(\"C\",1)]\n",
    "    prob = 0.9\n",
    "    total_mat = zeros(Int, 3, 2, 3)\n",
    "    \n",
    "    print(\"Factor | Tr |  \")\n",
    "    for i in 1:3,j in 1:2, k in 1:3; @printf \"%s%d%d, \" group_ratio_pairs[i][1] j (k+2); end; print(\"\\n\")\n",
    "    for _ in (1:32)\n",
    "        f1 = rand() <= 0.7 ? 1 : 2\n",
    "        f2 = rand() <= 0.5 ? 3 : (rand() <= 0.5 ? 4 : 5)\n",
    "        treatment = assign(assigned_data, prob, [f1,f2], group_ratio_pairs, Variance())\n",
    "        push!(assigned_data, ([f1,f2], treatment))\n",
    "        i = treatment == \"A\" ? 1 : (treatment == \"B\" ? 2 : 3)\n",
    "        j = f1\n",
    "        k = f2 - 2\n",
    "        total_mat[i,j,k] += 1\n",
    "        print(\"($f1, $f2) |  $treatment | \")\n",
    "        for _i in 1:3, _j in 1:2, _k in 1:3; @printf \"%4d,\" total_mat[_i,_j,_k]; end; print(\"\\n\")\n",
    "    end\n",
    "    \n",
    "    println(\"=========\")\n",
    "    println(\"Factor | A | B | C\")\n",
    "    for i in 1:2, j in 1:3\n",
    "        @printf \"(%d, %d) |%2d |%2d |%2d\\n\" i j+2 total_mat[1,i,j] total_mat[2,i,j] total_mat[3,i,j]\n",
    "    end\n",
    "    @printf \"Total  |%2d |%2d |%2d\\n\" sum(total_mat[1,:,:]) sum(total_mat[2,:,:]) sum(total_mat[3,:,:])\n",
    "end"
   ]
  },
  {
   "cell_type": "code",
   "execution_count": null,
   "id": "6475369c",
   "metadata": {},
   "outputs": [],
   "source": []
  }
 ],
 "metadata": {
  "kernelspec": {
   "display_name": "Julia 1.6.2",
   "language": "julia",
   "name": "julia-1.6"
  },
  "language_info": {
   "file_extension": ".jl",
   "mimetype": "application/julia",
   "name": "julia",
   "version": "1.6.2"
  }
 },
 "nbformat": 4,
 "nbformat_minor": 5
}
