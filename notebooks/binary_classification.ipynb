{
 "cells": [
  {
   "cell_type": "code",
   "execution_count": 1,
   "id": "8078cc7e",
   "metadata": {},
   "outputs": [],
   "source": [
    "# 機械学習帳 Chap.5\n",
    "# https://chokkan.github.io/mlnote/classification/01binary.html"
   ]
  },
  {
   "cell_type": "code",
   "execution_count": 2,
   "id": "353b73e5",
   "metadata": {},
   "outputs": [],
   "source": [
    "include(\"../src/data_helper.jl\")\n",
    "include(\"../src/logistic_regression.jl\")\n",
    "using LinearAlgebra"
   ]
  },
  {
   "cell_type": "code",
   "execution_count": 3,
   "id": "21e9d92d",
   "metadata": {
    "code_folding": []
   },
   "outputs": [
    {
     "name": "stdout",
     "output_type": "stream",
     "text": [
      "\r\n",
      "7-Zip 19.00 (x64) : Copyright (c) 1999-2018 Igor Pavlov : 2019-02-21\r\n",
      "\r\n",
      "Scanning the drive for archives:\r\n",
      "1 file, 203415 bytes (199 KiB)\r\n",
      "\r\n",
      "Extracting archive: tmp.zip\r\n",
      "--\r\n",
      "Path = tmp.zip\r\n",
      "Type = zip\r\n",
      "Physical Size = 203415\r\n",
      "\r\n",
      "Everything is Ok\r\n",
      "\r\n",
      "Files: 2\r\n",
      "Size:       483775\r\n",
      "Compressed: 203415\r\n"
     ]
    },
    {
     "data": {
      "text/plain": [
       "Process(`\u001b[4mrm\u001b[24m \u001b[4mtmp.zip\u001b[24m`, ProcessExited(0))"
      ]
     },
     "execution_count": 3,
     "metadata": {},
     "output_type": "execute_result"
    }
   ],
   "source": [
    "# ダウンロード\n",
    "using HTTP\n",
    "resp = HTTP.get(\"https://archive.ics.uci.edu/ml/machine-learning-databases/00228/smsspamcollection.zip\")\n",
    "open(\"tmp.zip\",\"w\") do f\n",
    "    write(f, resp.body)\n",
    "end\n",
    "\n",
    "# 7-Zipで回答\n",
    "run(`7z e tmp.zip -aoa`)\n",
    "\n",
    "# ファイルを読み込んで、データにセットする\n",
    "D = []\n",
    "open(\"SMSSpamCollection\", \"r\") do f\n",
    "    tokenize(s) = [rstrip(t,'.') for t in split(s, ' ')]\n",
    "    toTuple(line) = let ss = split(line,\"\\t\"); return (ss[1], counter(tokenize(ss[2]))); end    \n",
    "    global D = [toTuple(line) for line in eachline(f)]\n",
    "end\n",
    "# training dataとtest dataに9:1で、ランダムに分ける\n",
    "(Dtrain, Dtest) = randomsplit(D, 0.9)\n",
    "\n",
    "# ダウンロード/解凍したファイルを削除\n",
    "run(`rm SMSSpamCollection`)\n",
    "run(`rm readme`)\n",
    "run(`rm tmp.zip`)"
   ]
  },
  {
   "cell_type": "code",
   "execution_count": 4,
   "id": "c9440c21",
   "metadata": {},
   "outputs": [
    {
     "name": "stdout",
     "output_type": "stream",
     "text": [
      "made data\n"
     ]
    }
   ],
   "source": [
    "# 解析可能な形式にデータを変換する\n",
    "## training dataに含まれる各単語のリストを作成する。\n",
    "vocab  = unique(Iterators.flatten([keys(d[2]) for d in Dtrain]))\n",
    "## Nx(M+1)行列に変換する。(M=上で求めた単語リストのlength。+1は定数項)\n",
    "Xtrain = makeMatrixfromDicts([d[2] for d in Dtrain], vocab)\n",
    "Xtest  = makeMatrixfromDicts([d[2] for d in Dtest], vocab)\n",
    "## 文字列のベクトルを0,1の二値をとるベクトルに変換する(# spam:1 ham:0)\n",
    "label2id(label) = label == \"ham\" ? 0 : 1 \n",
    "Ytrain = map(label2id, [d[1] for d in Dtrain])\n",
    "Ytest  = map(label2id, [d[1] for d in Dtest])\n",
    "println(\"made data\")"
   ]
  },
  {
   "cell_type": "code",
   "execution_count": 5,
   "id": "7801d25e",
   "metadata": {
    "code_folding": []
   },
   "outputs": [
    {
     "name": "stdout",
     "output_type": "stream",
     "text": [
      "==Top 20 parameters with the smallest value==\n",
      "(-0.8360560516514247, \"i\")\n",
      "(-0.6372189538026228, \"my\")\n",
      "(-0.5656231147874322, \"I\")\n",
      "(-0.5299582339170442, \"I'll\")\n",
      "(-0.5272085729190662, \"\")\n",
      "(-0.4507654431442584, \"me\")\n",
      "(-0.4456065260585263, \"you\")\n",
      "(-0.4330624674043684, \"go\")\n",
      "(-0.41437785362330226, \"in\")\n",
      "(-0.3913683234418953, \"That\")\n",
      "(-0.38658967657238696, \"see\")\n",
      "(-0.36767528794153054, \"nice\")\n",
      "(-0.3651746097527225, \"like\")\n",
      "(-0.35816737261709386, \"id\")\n",
      "(-0.35355339059327373, \"password\")\n",
      "(-0.3469129577325533, \"use\")\n",
      "(-0.34684907169453, \"want\")\n",
      "(-0.3200115437698922, \"do\")\n",
      "(-0.3200042444184047, \"so\")\n",
      "(-0.3139105663188585, \"hair\")\n",
      "==Top 20 parameters with the largest value==\n",
      "(0.3975058890734463, \"have\")\n",
      "(0.40774050593059247, \"guaranteed\")\n",
      "(0.4170955483488625, \"Txt\")\n",
      "(0.42793279175985754, \"ur\")\n",
      "(0.4458920359897262, \"every\")\n",
      "(0.4597442533371275, \"To\")\n",
      "(0.46029414144943254, \"on\")\n",
      "(0.4814723919922247, \"cash\")\n",
      "(0.514505853159245, \"a\")\n",
      "(0.5186997365732006, \"claim\")\n",
      "(0.5364597000751037, \"&\")\n",
      "(0.554946610211155, \"You\")\n",
      "(0.5740462625678141, \"FREE\")\n",
      "(0.6562006983104437, \"call\")\n",
      "(0.6634454807912781, \"HMV\")\n",
      "(0.6653888837763628, \"won\")\n",
      "(0.7241847068023796, \"Call\")\n",
      "(0.832667287055925, \"award\")\n",
      "(0.84190855944357, \"or\")\n",
      "(1.0077026745165594, \"to\")\n",
      "==Scores==\n",
      "Accuracy  = 0.9444444444444444\n",
      "Precision = 0.9180327868852459\n",
      "Recall    = 0.6829268292682927\n",
      "F1Score   = 0.7832167832167832\n"
     ]
    }
   ],
   "source": [
    "# ロジスティック回帰モデルの学習\n",
    "N = length(Dtrain)\n",
    "M = length(vocab)\n",
    "# (M+1)の+1は定数項分\n",
    "w_sgd = logistic_regression(Xtrain, Ytrain, SGD(zeros(M+1), t -> 1/sqrt(1+t), 1e-4, 1_000))\n",
    "\n",
    "# 求めたパラメータを評価\n",
    "## 定数項を除いたパラメータを重み順にソート\n",
    "sorted_w = sort([(w_sgd[j],vocab[j]) for j in 1:M])\n",
    "println(\"==Top 20 parameters with the smallest value==\")\n",
    "for i in (1:20); println(sorted_w[i]); end\n",
    "println(\"==Top 20 parameters with the largest value==\")\n",
    "for i in (M-19:M); println(sorted_w[i]); end\n",
    "## 正解率、適合率、再現率、F1スコア\n",
    "Ŷtest = map(v -> v > 0 ? 1 : 0, Xtest * w_sgd)\n",
    "TP=0;FP=0;FN=0;TN=0\n",
    "for i in (1:length(Dtest))\n",
    "    if Ytest[i]==1\n",
    "        if Ŷtest[i] == 1; TP+=1; else FN+=1; end\n",
    "    else\n",
    "        if Ŷtest[i] == 1; FP+=1; else TN+=1; end\n",
    "    end\n",
    "end\n",
    "accuracy = (TP+TN)/(TP+TN+FP+FN)\n",
    "precision = TP/(TP+FP)\n",
    "recall = TP/(TP+FN)\n",
    "f1score = 2 * precision * recall / (precision + recall)\n",
    "println(\"==Scores==\")\n",
    "println(\"Accuracy  = $accuracy\")\n",
    "println(\"Precision = $precision\")\n",
    "println(\"Recall    = $recall\")\n",
    "println(\"F1Score   = $f1score\")\n",
    "GC.gc()"
   ]
  }
 ],
 "metadata": {
  "kernelspec": {
   "display_name": "Julia 1.6.2",
   "language": "julia",
   "name": "julia-1.6"
  },
  "language_info": {
   "file_extension": ".jl",
   "mimetype": "application/julia",
   "name": "julia",
   "version": "1.6.2"
  }
 },
 "nbformat": 4,
 "nbformat_minor": 5
}
