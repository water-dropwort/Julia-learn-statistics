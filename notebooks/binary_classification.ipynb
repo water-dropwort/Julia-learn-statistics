{
 "cells": [
  {
   "cell_type": "code",
   "execution_count": 1,
   "id": "8078cc7e",
   "metadata": {},
   "outputs": [],
   "source": [
    "# 機械学習帳 Chap.5\n",
    "# https://chokkan.github.io/mlnote/classification/01binary.html"
   ]
  },
  {
   "cell_type": "code",
   "execution_count": 2,
   "id": "353b73e5",
   "metadata": {},
   "outputs": [],
   "source": [
    "include(\"../src/data_helper.jl\")\n",
    "include(\"../src/stochastic_gradient_descent.jl\")\n",
    "using LinearAlgebra"
   ]
  },
  {
   "cell_type": "code",
   "execution_count": 3,
   "id": "21e9d92d",
   "metadata": {
    "code_folding": []
   },
   "outputs": [
    {
     "name": "stdout",
     "output_type": "stream",
     "text": [
      "\n",
      "7-Zip 19.00 (x64) : Copyright (c) 1999-2018 Igor Pavlov : 2019-02-21\n",
      "\n",
      "Scanning the drive for archives:\n",
      "1 file, 203415 bytes (199 KiB)\n",
      "\n",
      "Extracting archive: tmp.zip\n",
      "--\n",
      "Path = tmp.zip\n",
      "Type = zip\n",
      "Physical Size = 203415\n",
      "\n",
      "Everything is Ok\n",
      "\n",
      "Files: 2\n",
      "Size:       483775\n",
      "Compressed: 203415\n"
     ]
    },
    {
     "data": {
      "text/plain": [
       "Process(`\u001b[4mrm\u001b[24m \u001b[4mtmp.zip\u001b[24m`, ProcessExited(0))"
      ]
     },
     "execution_count": 3,
     "metadata": {},
     "output_type": "execute_result"
    }
   ],
   "source": [
    "# ダウンロード\n",
    "using HTTP\n",
    "resp = HTTP.get(\"https://archive.ics.uci.edu/ml/machine-learning-databases/00228/smsspamcollection.zip\")\n",
    "open(\"tmp.zip\",\"w\") do f\n",
    "    write(f, resp.body)\n",
    "end\n",
    "\n",
    "# 7-Zipで回答\n",
    "run(`7z e tmp.zip -aoa`)\n",
    "\n",
    "# ファイルを読み込んで、データにセットする\n",
    "D = []\n",
    "open(\"SMSSpamCollection\", \"r\") do f\n",
    "    tokenize(s) = [rstrip(t,'.') for t in split(s, ' ')]\n",
    "    toTuple(line) = let ss = split(line,\"\\t\"); return (ss[1], counter(tokenize(ss[2]))); end    \n",
    "    global D = [toTuple(line) for line in eachline(f)]\n",
    "end\n",
    "# training dataとtest dataに9:1で、ランダムに分ける\n",
    "(Dtrain, Dtest) = randomsplit(D, 0.9)\n",
    "\n",
    "# ダウンロード/解凍したファイルを削除\n",
    "run(`rm SMSSpamCollection`)\n",
    "run(`rm readme`)\n",
    "run(`rm tmp.zip`)"
   ]
  },
  {
   "cell_type": "code",
   "execution_count": 4,
   "id": "c9440c21",
   "metadata": {},
   "outputs": [
    {
     "name": "stdout",
     "output_type": "stream",
     "text": [
      "made data\n"
     ]
    }
   ],
   "source": [
    "# 解析可能な形式にデータを変換する\n",
    "## training dataに含まれる各単語のリストを作成する。\n",
    "vocab  = unique(Iterators.flatten([keys(d[2]) for d in Dtrain]))\n",
    "## Nx(M+1)行列に変換する。(M=上で求めた単語リストのlength。+1は定数項)\n",
    "Xtrain = makeMatrixfromDicts([d[2] for d in Dtrain], vocab)\n",
    "Xtest  = makeMatrixfromDicts([d[2] for d in Dtest], vocab)\n",
    "## 文字列のベクトルを0,1の二値をとるベクトルに変換する(# spam:1 ham:0)\n",
    "label2id(label) = label == \"ham\" ? 0 : 1 \n",
    "Ytrain = map(label2id, [d[1] for d in Dtrain])\n",
    "Ytest  = map(label2id, [d[1] for d in Dtest])\n",
    "println(\"made data\")"
   ]
  },
  {
   "cell_type": "code",
   "execution_count": 5,
   "id": "7801d25e",
   "metadata": {
    "code_folding": []
   },
   "outputs": [
    {
     "name": "stdout",
     "output_type": "stream",
     "text": [
      "==Top 20 parameters with the smallest value==\n",
      "(-0.8371700676461906, \"i\")\n",
      "(-0.7232746742968215, \"I\")\n",
      "(-0.6417394729600232, \"know\")\n",
      "(-0.6258365331145282, \"my\")\n",
      "(-0.5682449875509326, \"me\")\n",
      "(-0.5422642215945389, \"\")\n",
      "(-0.4764589075027166, \"it\")\n",
      "(-0.4132434390876563, \"but\")\n",
      "(-0.40319255833457146, \"u\")\n",
      "(-0.38399481993009976, \"dont\")\n",
      "(-0.38040466396017725, \"again\")\n",
      "(-0.35780999327095064, \"oh\")\n",
      "(-0.35355339059327373, \"Me,\")\n",
      "(-0.33202557279674644, \"you\")\n",
      "(-0.3212368724861954, \"in\")\n",
      "(-0.29760680075349527, \"do\")\n",
      "(-0.2962179921615618, \"come\")\n",
      "(-0.2876885512402456, \"Happy\")\n",
      "(-0.26401794424131575, \"It\")\n",
      "(-0.26249926805157875, \"5\")\n",
      "==Top 20 parameters with the largest value==\n",
      "(0.30593573348105674, \"with\")\n",
      "(0.3093851270202117, \"ur\")\n",
      "(0.312124465549163, \"£1000\")\n",
      "(0.3333798605813944, \"txt\")\n",
      "(0.3439460211138959, \"To\")\n",
      "(0.35353149206794493, \"stop\")\n",
      "(0.38912368372474826, \"claim\")\n",
      "(0.40743414395851846, \"FREE\")\n",
      "(0.4200261025037076, \"your\")\n",
      "(0.4381641410805507, \"content\")\n",
      "(0.4468322215329658, \"our\")\n",
      "(0.5440132231894655, \"been\")\n",
      "(0.5909075728570543, \"&\")\n",
      "(0.6311772471131111, \"call\")\n",
      "(0.6369935965590173, \"Call\")\n",
      "(0.6710870576744021, \"Your\")\n",
      "(0.7202429272807325, \"to\")\n",
      "(0.7248881800898919, \"or\")\n",
      "(0.7925837038850579, \"have\")\n",
      "(0.828776827222305, \"for\")\n",
      "==Scores==\n",
      "Accuracy  = 0.9247311827956989\n",
      "Precision = 0.9056603773584906\n",
      "Recall    = 0.5647058823529412\n",
      "F1Score   = 0.6956521739130436\n"
     ]
    }
   ],
   "source": [
    "# ロジスティック回帰モデルの学習\n",
    "sigmoid(x) = 1 / (1+exp(-x))\n",
    "calcgrad(i,w) = -(Ytrain[i]-sigmoid(dot(w,Xtrain[i,:]))) * Xtrain[i,:]\n",
    "N = length(Dtrain)\n",
    "M = length(vocab)\n",
    "η(t) = 1 / sqrt(1+t)\n",
    "ϵ = 1e-4\n",
    "MAX_EPOCHS = 1_000\n",
    "vectorabs(vector) = sum(abs.(vector))\n",
    "# (M+1)の+1は定数項分\n",
    "w_sgd = stochastic_gradient_descent(calcgrad, N, zeros(M+1), η, ϵ, MAX_EPOCHS, vectorabs)\n",
    "\n",
    "# 求めたパラメータを評価\n",
    "## 定数項を除いたパラメータを重み順にソート\n",
    "sorted_w = sort([(w_sgd[j],vocab[j]) for j in 1:M])\n",
    "println(\"==Top 20 parameters with the smallest value==\")\n",
    "for i in (1:20); println(sorted_w[i]); end\n",
    "println(\"==Top 20 parameters with the largest value==\")\n",
    "for i in (M-19:M); println(sorted_w[i]); end\n",
    "## 正解率、適合率、再現率、F1スコア\n",
    "Ŷtest = map(v -> v > 0 ? 1 : 0, Xtest * w_sgd)\n",
    "TP=0;FP=0;FN=0;TN=0\n",
    "for i in (1:length(Dtest))\n",
    "    if Ytest[i]==1\n",
    "        if Ŷtest[i] == 1; TP+=1; else FN+=1; end\n",
    "    else\n",
    "        if Ŷtest[i] == 1; FP+=1; else TN+=1; end\n",
    "    end\n",
    "end\n",
    "accuracy = (TP+TN)/(TP+TN+FP+FN)\n",
    "precision = TP/(TP+FP)\n",
    "recall = TP/(TP+FN)\n",
    "f1score = 2 * precision * recall / (precision + recall)\n",
    "println(\"==Scores==\")\n",
    "println(\"Accuracy  = $accuracy\")\n",
    "println(\"Precision = $precision\")\n",
    "println(\"Recall    = $recall\")\n",
    "println(\"F1Score   = $f1score\")\n",
    "GC.gc()"
   ]
  }
 ],
 "metadata": {
  "kernelspec": {
   "display_name": "Julia 1.6.2",
   "language": "julia",
   "name": "julia-1.6"
  },
  "language_info": {
   "file_extension": ".jl",
   "mimetype": "application/julia",
   "name": "julia",
   "version": "1.6.2"
  }
 },
 "nbformat": 4,
 "nbformat_minor": 5
}
