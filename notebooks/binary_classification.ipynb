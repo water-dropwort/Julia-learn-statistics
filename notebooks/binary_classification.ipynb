{
 "cells": [
  {
   "cell_type": "code",
   "execution_count": 1,
   "id": "8078cc7e",
   "metadata": {},
   "outputs": [],
   "source": [
    "# 機械学習帳 Chap.5\n",
    "# https://chokkan.github.io/mlnote/classification/01binary.html"
   ]
  },
  {
   "cell_type": "code",
   "execution_count": 2,
   "id": "353b73e5",
   "metadata": {},
   "outputs": [],
   "source": [
    "include(\"../src/Helper/data_helper.jl\")\n",
    "include(\"../src/Classification/logistic_regression.jl\")\n",
    "using LinearAlgebra"
   ]
  },
  {
   "cell_type": "code",
   "execution_count": 3,
   "id": "21e9d92d",
   "metadata": {
    "code_folding": []
   },
   "outputs": [
    {
     "name": "stdout",
     "output_type": "stream",
     "text": [
      "\r\n",
      "7-Zip 19.00 (x64) : Copyright (c) 1999-2018 Igor Pavlov : 2019-02-21\r\n",
      "\r\n",
      "Scanning the drive for archives:\r\n",
      "1 file, 203415 bytes (199 KiB)\r\n",
      "\r\n",
      "Extracting archive: tmp.zip\r\n",
      "--\r\n",
      "Path = tmp.zip\r\n",
      "Type = zip\r\n",
      "Physical Size = 203415\r\n",
      "\r\n",
      "Everything is Ok\r\n",
      "\r\n",
      "Files: 2\r\n",
      "Size:       483775\r\n",
      "Compressed: 203415\r\n"
     ]
    },
    {
     "data": {
      "text/plain": [
       "Process(`\u001b[4mrm\u001b[24m \u001b[4mtmp.zip\u001b[24m`, ProcessExited(0))"
      ]
     },
     "execution_count": 3,
     "metadata": {},
     "output_type": "execute_result"
    }
   ],
   "source": [
    "# ダウンロード\n",
    "using HTTP\n",
    "resp = HTTP.get(\"https://archive.ics.uci.edu/ml/machine-learning-databases/00228/smsspamcollection.zip\")\n",
    "open(\"tmp.zip\",\"w\") do f\n",
    "    write(f, resp.body)\n",
    "end\n",
    "\n",
    "# 7-Zipで回答\n",
    "run(`7z e tmp.zip -aoa`)\n",
    "\n",
    "# ファイルを読み込んで、データにセットする\n",
    "D = []\n",
    "open(\"SMSSpamCollection\", \"r\") do f\n",
    "    tokenize(s) = [rstrip(t,'.') for t in split(s, ' ')]\n",
    "    toTuple(line) = let ss = split(line,\"\\t\"); return (ss[1], counter(tokenize(ss[2]))); end    \n",
    "    global D = [toTuple(line) for line in eachline(f)]\n",
    "end\n",
    "# training dataとtest dataに9:1で、ランダムに分ける\n",
    "(Dtrain, Dtest) = randomsplit(D, 0.9)\n",
    "\n",
    "# ダウンロード/解凍したファイルを削除\n",
    "run(`rm SMSSpamCollection`)\n",
    "run(`rm readme`)\n",
    "run(`rm tmp.zip`)"
   ]
  },
  {
   "cell_type": "code",
   "execution_count": 4,
   "id": "c9440c21",
   "metadata": {},
   "outputs": [
    {
     "name": "stdout",
     "output_type": "stream",
     "text": [
      "made data\n"
     ]
    }
   ],
   "source": [
    "# 解析可能な形式にデータを変換する\n",
    "## training dataに含まれる各単語のリストを作成する。\n",
    "vocab  = unique(Iterators.flatten([keys(d[2]) for d in Dtrain]))\n",
    "## Nx(M+1)行列に変換する。(M=上で求めた単語リストのlength。+1は定数項)\n",
    "Xtrain = makeMatrixfromDicts([d[2] for d in Dtrain], vocab)\n",
    "Xtest  = makeMatrixfromDicts([d[2] for d in Dtest], vocab)\n",
    "## 文字列のベクトルを0,1の二値をとるベクトルに変換する(# spam:1 ham:0)\n",
    "label2id(label) = label == \"ham\" ? 0 : 1 \n",
    "Ytrain = map(label2id, [d[1] for d in Dtrain])\n",
    "Ytest  = map(label2id, [d[1] for d in Dtest])\n",
    "println(\"made data\")"
   ]
  },
  {
   "cell_type": "code",
   "execution_count": 5,
   "id": "7801d25e",
   "metadata": {
    "code_folding": []
   },
   "outputs": [
    {
     "name": "stdout",
     "output_type": "stream",
     "text": [
      "==Top 20 parameters with the smallest value==\n",
      "(-0.8595199199113788, \"I\")\n",
      "(-0.7701058923871961, \"i\")\n",
      "(-0.678535216586869, \"my\")\n",
      "(-0.5666784618868096, \"you\")\n",
      "(-0.4937909284872803, \"\")\n",
      "(-0.48016851423791856, \"me\")\n",
      "(-0.4742823518123879, \"doing\")\n",
      "(-0.414702036657556, \"lor\")\n",
      "(-0.4081733124150848, \"still\")\n",
      "(-0.40037934026150923, \"come\")\n",
      "(-0.3997120500354399, \"start\")\n",
      "(-0.37707770212725095, \"but\")\n",
      "(-0.36335808182639845, \"leh\")\n",
      "(-0.3624122809827245, \"show\")\n",
      "(-0.3621270999429258, \"busy\")\n",
      "(-0.355729004129994, \"tv\")\n",
      "(-0.3540251474381818, \"Waiting\")\n",
      "(-0.35355339059327373, \"report?\")\n",
      "(-0.3452896105303562, \"in\")\n",
      "(-0.30204526820869854, \"d\")\n",
      "==Top 20 parameters with the largest value==\n",
      "(0.33879960199348513, \"unlimited\")\n",
      "(0.34122812448266093, \"Text\")\n",
      "(0.3412696019798457, \"CALL\")\n",
      "(0.3450721101021217, \"service\")\n",
      "(0.3470880159425676, \"contact\")\n",
      "(0.3497646897588685, \"for\")\n",
      "(0.35618382016122885, \"Please\")\n",
      "(0.364643811049581, \"apply\")\n",
      "(0.3698627098893932, \"Call\")\n",
      "(0.3978318104341168, \"prize\")\n",
      "(0.3996058530128931, \"with\")\n",
      "(0.40096340475486075, \"free\")\n",
      "(0.45528591503693855, \"Txt\")\n",
      "(0.4675588450330185, \"or\")\n",
      "(0.4829418158214234, \"a\")\n",
      "(0.5566625462417945, \"to\")\n",
      "(0.5683895861999126, \"&\")\n",
      "(0.5993466726404211, \"from\")\n",
      "(0.686221666659432, \"your\")\n",
      "(0.7102289074697833, \"call\")\n",
      "==Scores==\n",
      "Accuracy  = 0.9229390681003584\n",
      "Precision = 0.9361702127659575\n",
      "Recall    = 0.5238095238095238\n",
      "F1Score   = 0.6717557251908398\n"
     ]
    }
   ],
   "source": [
    "# ロジスティック回帰モデルの学習\n",
    "N = length(Dtrain)\n",
    "M = length(vocab)\n",
    "# (M+1)の+1は定数項分\n",
    "w_sgd = logistic_regression(Xtrain, Ytrain, SGD(zeros(M+1), t -> 1/sqrt(1+t), 1e-4, 1_000))\n",
    "\n",
    "# 求めたパラメータを評価\n",
    "## 定数項を除いたパラメータを重み順にソート\n",
    "sorted_w = sort([(w_sgd[j],vocab[j]) for j in 1:M])\n",
    "println(\"==Top 20 parameters with the smallest value==\")\n",
    "for i in (1:20); println(sorted_w[i]); end\n",
    "println(\"==Top 20 parameters with the largest value==\")\n",
    "for i in (M-19:M); println(sorted_w[i]); end\n",
    "## 正解率、適合率、再現率、F1スコア\n",
    "Ŷtest = map(v -> v > 0 ? 1 : 0, Xtest * w_sgd)\n",
    "TP=0;FP=0;FN=0;TN=0\n",
    "for i in (1:length(Dtest))\n",
    "    if Ytest[i]==1\n",
    "        if Ŷtest[i] == 1; TP+=1; else FN+=1; end\n",
    "    else\n",
    "        if Ŷtest[i] == 1; FP+=1; else TN+=1; end\n",
    "    end\n",
    "end\n",
    "accuracy = (TP+TN)/(TP+TN+FP+FN)\n",
    "precision = TP/(TP+FP)\n",
    "recall = TP/(TP+FN)\n",
    "f1score = 2 * precision * recall / (precision + recall)\n",
    "println(\"==Scores==\")\n",
    "println(\"Accuracy  = $accuracy\")\n",
    "println(\"Precision = $precision\")\n",
    "println(\"Recall    = $recall\")\n",
    "println(\"F1Score   = $f1score\")\n",
    "GC.gc()"
   ]
  }
 ],
 "metadata": {
  "kernelspec": {
   "display_name": "Julia 1.6.2",
   "language": "julia",
   "name": "julia-1.6"
  },
  "language_info": {
   "file_extension": ".jl",
   "mimetype": "application/julia",
   "name": "julia",
   "version": "1.6.2"
  }
 },
 "nbformat": 4,
 "nbformat_minor": 5
}
